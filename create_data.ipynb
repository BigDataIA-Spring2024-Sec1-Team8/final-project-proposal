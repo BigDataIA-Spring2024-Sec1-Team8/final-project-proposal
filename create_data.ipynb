{
 "cells": [
  {
   "cell_type": "code",
   "execution_count": 126,
   "id": "2f80d9b8-db62-49aa-a2a7-6abad960d7b5",
   "metadata": {},
   "outputs": [
    {
     "data": {
      "text/plain": [
       "True"
      ]
     },
     "execution_count": 126,
     "metadata": {},
     "output_type": "execute_result"
    }
   ],
   "source": [
    "import gzip\n",
    "import json\n",
    "import jsonlines\n",
    "import os\n",
    "from tqdm.notebook import tqdm\n",
    "import time\n",
    "from collections import defaultdict\n",
    "import google.generativeai as genai\n",
    "import pandas as pd\n",
    "from dotenv import load_dotenv\n",
    "load_dotenv()"
   ]
  },
  {
   "cell_type": "code",
   "execution_count": 127,
   "id": "a9f95cd7",
   "metadata": {},
   "outputs": [],
   "source": [
    "key = os.getenv('gemini')"
   ]
  },
  {
   "cell_type": "code",
   "execution_count": 128,
   "id": "f16f13fb",
   "metadata": {},
   "outputs": [],
   "source": [
    "genai.configure(api_key=key)\n"
   ]
  },
  {
   "cell_type": "markdown",
   "id": "cc9ec2d3",
   "metadata": {},
   "source": [
    "# Summary Using Gemini"
   ]
  },
  {
   "cell_type": "code",
   "execution_count": 117,
   "id": "2f4d6a86",
   "metadata": {},
   "outputs": [],
   "source": [
    "def call_gemini_api(input_text):\n",
    "    model = genai.GenerativeModel('models/gemini-1.0-pro')\n",
    "    response = model.generate_content(input_text.strip(), safety_settings={'HARASSMENT':'block_none',\n",
    "                                                     'HATE_SPEECH': 'block_none',\n",
    "                                                     'HARM_CATEGORY_DANGEROUS_CONTENT': 'block_none',\n",
    "                                                     'HARM_CATEGORY_SEXUALLY_EXPLICIT': 'block_none'})\n",
    "    try:\n",
    "        return response.text\n",
    "    except Exception as e:\n",
    "        # print(response.prompt_feedback)\n",
    "        return \"UNSAFE\""
   ]
  },
  {
   "cell_type": "code",
   "execution_count": 100,
   "id": "2e79e421-ba2e-4a14-9ecc-e9232e9489ce",
   "metadata": {},
   "outputs": [],
   "source": [
    "instruction = \"\"\"Give a concise summary for the below description of the product in the form {\"summary\": ...}.\\n\\nProduct Info:\\n\"\"\""
   ]
  },
  {
   "cell_type": "code",
   "execution_count": 101,
   "id": "082ce2c0-9c15-4103-8098-451bdc911cd0",
   "metadata": {},
   "outputs": [],
   "source": [
    "def parse(path):\n",
    "  g = gzip.open(path, 'r')\n",
    "  for l in g:\n",
    "    yield json.loads(l)"
   ]
  },
  {
   "cell_type": "markdown",
   "id": "0d8d42b5",
   "metadata": {},
   "source": [
    "# Fetch Products for desired categories"
   ]
  },
  {
   "cell_type": "code",
   "execution_count": 102,
   "id": "444a56f1-305d-477a-8509-e1dd106e3481",
   "metadata": {},
   "outputs": [],
   "source": [
    "def get_info_from_sample(sample:dict):\n",
    "    description = sample.get(\"description\", None)\n",
    "    if isinstance(description, list):\n",
    "        description = \" \".join(description)\n",
    "        \n",
    "    features = sample.get(\"feature\", None)\n",
    "    if isinstance(features, list):\n",
    "        features = \"\\n- \" + \"\\n- \".join(features)\n",
    "    \n",
    "    if description and features:\n",
    "        return f\"\"\"Description:\\n{description}\\nFeatures:{features}\"\"\"\n",
    "    elif description:\n",
    "        return description\n",
    "    elif features:\n",
    "        return features\n",
    "    else:\n",
    "        return None"
   ]
  },
  {
   "cell_type": "code",
   "execution_count": 107,
   "id": "e1c01794-e2f3-4b6b-8a41-7955d4a2f322",
   "metadata": {},
   "outputs": [],
   "source": [
    "def get_labelled_data(input_file_path, out_dir, skiplines=0, filename=None):\n",
    "    inp_file_name = input_file_path.split(\"/\")[-1].strip()\n",
    "    with jsonlines.open(os.path.join(out_dir, f'{inp_file_name.split(\".\")[0]}.jsonl'), mode=\"a\") as out_file:\n",
    "        print(f\"Processing file - {input_file_path}\")\n",
    "        ct = 0\n",
    "        pred_ct = 0\n",
    "        for sample in parse(input_file_path):\n",
    "            ct+=1\n",
    "            if filename and filename==inp_file_name and ct<skiplines:\n",
    "                continue            \n",
    "\n",
    "            info = get_info_from_sample(sample)\n",
    "            if info and len(info.split())>50:\n",
    "                print(sample)\n",
    "                try:\n",
    "                    generated_text = call_gemini_api(instruction+info)\n",
    "                    print(generated_text)\n",
    "                    if generated_text!=\"UNSAFE\": out_file.write({\"product_info\": info, \"summary\": json.loads(generated_text.strip())[\"summary\"]})\n",
    "                    pred_ct+=1\n",
    "                    # generated_text=\"\"\n",
    "                except Exception as e:\n",
    "                    # print(e)\n",
    "                    # if generated_text: print(generated_text)\n",
    "                    if \"deadline\" in str(e).lower(): \n",
    "                        print(\"resetting the limit\")\n",
    "                        time.sleep(60)\n",
    "                break\n",
    "        print(ct)\n",
    "            # break\n",
    "    return pred_ct"
   ]
  },
  {
   "cell_type": "markdown",
   "id": "d7a9ffa2",
   "metadata": {},
   "source": [
    "## Categories"
   ]
  },
  {
   "cell_type": "code",
   "execution_count": 2,
   "id": "09739148",
   "metadata": {},
   "outputs": [],
   "source": [
    "cats_desired = ['Men Clothing', 'Women Clothing', 'Boys Clothing','Girls Clothing',\n",
    "'Men Shoes', 'Women Shoes', 'Boys Shoes','Girls Shoes',\n",
    "'Men Watches', 'Women Watches', 'Boys Watches','Girls Watches']"
   ]
  },
  {
   "cell_type": "code",
   "execution_count": 3,
   "id": "30ae10bc",
   "metadata": {},
   "outputs": [],
   "source": [
    "def fetch_category(sample):\n",
    "    return sample.get('category', None)\n",
    "def fetch_req_fields(sample):\n",
    "    asin = sample.get('asin', None)\n",
    "    fs = sample.get('feature', None)\n",
    "    fea=\"\"\n",
    "    if fs:\n",
    "        for i in fs:\n",
    "            fea+=i+\"\\n\"\n",
    "    ds = sample.get('description', None)\n",
    "    desc=\"\"\n",
    "    if ds:\n",
    "        for i in ds:\n",
    "            desc+=i+\"\\n\"\n",
    "    title = sample.get('title', None)\n",
    "\n",
    "    return {\n",
    "     \"title\": title,\n",
    "     \"features\": fea,\n",
    "     \"description\": desc,\n",
    "     \"asin\":asin,\n",
    "     \"imageurl\": sample.get('imageURL', None),\n",
    "     \"imageURLHighRes\": sample.get('imageURLHighRes', None)\n",
    "    }\n",
    "\n"
   ]
  },
  {
   "cell_type": "code",
   "execution_count": 132,
   "id": "5d9f38a4",
   "metadata": {},
   "outputs": [],
   "source": [
    "\n",
    "def fetch_cat(input_file_path):\n",
    "    sub_cats = defaultdict(int)\n",
    "    output = []\n",
    "    for sample in parse(input_file_path):\n",
    "        info = fetch_category(sample)\n",
    "        if len(info)>=3:\n",
    "            cat = info[1]+ \" \"+ info[2]\n",
    "            if cat in cats_desired and sub_cats[cat]<150:\n",
    "                dic=fetch_req_fields(sample)\n",
    "                dic[\"category\"] = cat\n",
    "                if dic['features'] != \"\" and dic['description'] != \"\" and dic['imageurl']:\n",
    "                    sub_cats[cat]+=1\n",
    "                    output.append(dic) \n",
    "                        # info = get_info_from_sample(sample)\n",
    "                        # if info and len(info.split())>50:\n",
    "                        #     try:\n",
    "                        #         generated_text = call_gemini_api(instruction+info)\n",
    "                                \n",
    "                        #         if generated_text!=\"UNSAFE\": \n",
    "                        #             dic[\"summary\"] = json.loads(generated_text.strip())[\"summary\"]\n",
    "                        #             sub_cats[cat]+=1\n",
    "                        #             print(sub_cats[cat], cat)\n",
    "                        #             output.append(dic) \n",
    "                        #     except Exception as e:\n",
    "                        #         print(e)\n",
    "                        #         # if generated_text: print(generated_text)\n",
    "                        #         if \"deadline\" in str(e).lower(): \n",
    "                        #             print(\"resetting the limit\")\n",
    "                        #             time.sleep(60)\n",
    "                      \n",
    "                 \n",
    "    return output, sub_cats"
   ]
  },
  {
   "cell_type": "code",
   "execution_count": 133,
   "id": "46ed44c4-c77e-4928-8e7a-22cb3b2f848b",
   "metadata": {
    "scrolled": true,
    "tags": []
   },
   "outputs": [
    {
     "name": "stdout",
     "output_type": "stream",
     "text": [
      "Processing file - train/meta_Clothing_Shoes_and_Jewelry.json.gz\n"
     ]
    }
   ],
   "source": [
    "output, sub_cats= fetch_cat(\"train/meta_Clothing_Shoes_and_Jewelry.json.gz\")"
   ]
  },
  {
   "cell_type": "code",
   "execution_count": 134,
   "id": "08484dd2",
   "metadata": {},
   "outputs": [],
   "source": [
    "dataset = pd.DataFrame(output)\n",
    "dataset.to_csv(\"products.csv\", index=False)"
   ]
  },
  {
   "cell_type": "code",
   "execution_count": 135,
   "id": "b3156978",
   "metadata": {},
   "outputs": [
    {
     "data": {
      "text/plain": [
       "(0, 7)"
      ]
     },
     "execution_count": 135,
     "metadata": {},
     "output_type": "execute_result"
    }
   ],
   "source": [
    "# dataset[~dataset['imageurl'].isna()]['imageurl']\n",
    "# dataset[dataset['imageurl'].isna()].shape"
   ]
  },
  {
   "cell_type": "markdown",
   "id": "62e54642",
   "metadata": {},
   "source": [
    "# Fetch Reviews"
   ]
  },
  {
   "cell_type": "code",
   "execution_count": null,
   "id": "bf3aa8a5",
   "metadata": {},
   "outputs": [],
   "source": [
    "def fetch_asin(sample):\n",
    "    return sample.get('asin', None)\n",
    "def fetch_req_fields(sample):\n",
    "    asin = sample.get('asin', None)\n",
    "    return {\n",
    "     \"reviewText\": sample.get('reviewText', None) ,\n",
    "     \"summary\": sample.get('summary', None),\n",
    "     \"asin\":asin,\n",
    "    }\n",
    "cats_desired = dataset['asin'].to_list()\n"
   ]
  },
  {
   "cell_type": "code",
   "execution_count": 137,
   "id": "79b59723",
   "metadata": {},
   "outputs": [],
   "source": [
    "from collections import defaultdict\n",
    "def fetch_reviews(input_file_path):\n",
    "    sub_cats = defaultdict(int)\n",
    "    output = []\n",
    "    print(f\"Processing file - {input_file_path}\")\n",
    "    for sample in parse(input_file_path):\n",
    "        info = fetch_asin(sample)\n",
    "        if info in cats_desired and sub_cats[info]<10:\n",
    "                dic=fetch_req_fields(sample)\n",
    "                    # dic[\"category\"] = cat\n",
    "                if dic['reviewText'] != \"\" and dic['summary'] != \"\":\n",
    "                    sub_cats[info]+=1\n",
    "                    output.append(dic) \n",
    "                        # info = get_info_from_sample(sample)\n",
    "                        # if info and len(info.split())>50:\n",
    "                        #     try:\n",
    "                        #         generated_text = call_gemini_api(instruction+info)\n",
    "                                \n",
    "                        #         if generated_text!=\"UNSAFE\": \n",
    "                        #             dic[\"summary\"] = json.loads(generated_text.strip())[\"summary\"]\n",
    "                        #             sub_cats[cat]+=1\n",
    "                        #             print(sub_cats[cat], cat)\n",
    "                        #             output.append(dic) \n",
    "                        #     except Exception as e:\n",
    "                        #         print(e)\n",
    "                        #         # if generated_text: print(generated_text)\n",
    "                        #         if \"deadline\" in str(e).lower(): \n",
    "                        #             print(\"resetting the limit\")\n",
    "                        #             time.sleep(60)\n",
    "                      \n",
    "                 \n",
    "    return output, sub_cats"
   ]
  },
  {
   "cell_type": "code",
   "execution_count": 138,
   "id": "6f9ac917",
   "metadata": {},
   "outputs": [
    {
     "name": "stdout",
     "output_type": "stream",
     "text": [
      "Processing file - train/Clothing_Shoes_and_Jewelry.json.gz\n"
     ]
    }
   ],
   "source": [
    "output, sub_cats= fetch_reviews(\"train/Clothing_Shoes_and_Jewelry.json.gz\")"
   ]
  },
  {
   "cell_type": "code",
   "execution_count": 139,
   "id": "37557287",
   "metadata": {},
   "outputs": [
    {
     "data": {
      "text/plain": [
       "(9291, 3)"
      ]
     },
     "execution_count": 139,
     "metadata": {},
     "output_type": "execute_result"
    }
   ],
   "source": [
    "dataset = pd.DataFrame(output)\n",
    "dataset.to_csv(\"reviews.csv\", index=False)"
   ]
  },
  {
   "cell_type": "markdown",
   "id": "66f2a246",
   "metadata": {},
   "source": [
    "# EDA"
   ]
  },
  {
   "cell_type": "code",
   "execution_count": 8,
   "id": "fb0c77cb",
   "metadata": {},
   "outputs": [],
   "source": [
    "products = pd.read_csv(\"products.csv\")\n",
    "reviews = pd.read_csv(\"reviews.csv\")"
   ]
  },
  {
   "cell_type": "markdown",
   "id": "b46f00d6",
   "metadata": {},
   "source": [
    "### Number of products"
   ]
  },
  {
   "cell_type": "code",
   "execution_count": 10,
   "id": "1823dccf",
   "metadata": {},
   "outputs": [
    {
     "data": {
      "text/plain": [
       "(1800, 7)"
      ]
     },
     "execution_count": 10,
     "metadata": {},
     "output_type": "execute_result"
    }
   ],
   "source": [
    "products.shape\n"
   ]
  },
  {
   "cell_type": "markdown",
   "id": "9dd334e7",
   "metadata": {},
   "source": [
    "### Number of products by category"
   ]
  },
  {
   "cell_type": "code",
   "execution_count": 36,
   "id": "588a84ff",
   "metadata": {},
   "outputs": [
    {
     "data": {
      "text/plain": [
       "12"
      ]
     },
     "execution_count": 36,
     "metadata": {},
     "output_type": "execute_result"
    }
   ],
   "source": [
    "products['category'].nunique()"
   ]
  },
  {
   "cell_type": "code",
   "execution_count": 13,
   "id": "d2bc3382",
   "metadata": {},
   "outputs": [
    {
     "data": {
      "text/plain": [
       "Women Clothing    150\n",
       "Men Clothing      150\n",
       "Women Watches     150\n",
       "Men Watches       150\n",
       "Women Shoes       150\n",
       "Boys Clothing     150\n",
       "Men Shoes         150\n",
       "Girls Shoes       150\n",
       "Boys Shoes        150\n",
       "Girls Clothing    150\n",
       "Girls Watches     150\n",
       "Boys Watches      150\n",
       "Name: category, dtype: int64"
      ]
     },
     "execution_count": 13,
     "metadata": {},
     "output_type": "execute_result"
    }
   ],
   "source": [
    "products['category'].value_counts()"
   ]
  },
  {
   "cell_type": "code",
   "execution_count": 14,
   "id": "434e0039",
   "metadata": {},
   "outputs": [
    {
     "data": {
      "text/plain": [
       "Index(['title', 'features', 'description', 'asin', 'imageurl',\n",
       "       'imageURLHighRes', 'category'],\n",
       "      dtype='object')"
      ]
     },
     "execution_count": 14,
     "metadata": {},
     "output_type": "execute_result"
    }
   ],
   "source": [
    "products.columns"
   ]
  },
  {
   "cell_type": "markdown",
   "id": "678c4d3c",
   "metadata": {},
   "source": [
    "### Sample Features and description"
   ]
  },
  {
   "cell_type": "code",
   "execution_count": 33,
   "id": "9e89615f",
   "metadata": {},
   "outputs": [
    {
     "name": "stdout",
     "output_type": "stream",
     "text": [
      "cotton blended\n",
      "Has a fashionable flap over Pocket on the right thigh\n",
      "Soft, comfortable and machine washable\n",
      "Mid rise waist\n",
      "Great for yoga, running, gym fitness workout, casual and fashion occasions\n",
      "Shipping Information:\n",
      "                    \n",
      "View shipping rates and policies\n",
      "\n"
     ]
    }
   ],
   "source": [
    "print(products.iloc[21].features)"
   ]
  },
  {
   "cell_type": "code",
   "execution_count": 34,
   "id": "4b664d1e",
   "metadata": {},
   "outputs": [
    {
     "name": "stdout",
     "output_type": "stream",
     "text": [
      "Y-BIN Women's Leggings Fitted Capris Gym Workout Running Tights Pants A light yoga stretch at home? The fabric is our awesome peach performance fabric. Super soft and a great mid-weight legging.\n",
      "\n"
     ]
    }
   ],
   "source": [
    "print(products.iloc[21].description)"
   ]
  },
  {
   "cell_type": "markdown",
   "id": "62ad5837",
   "metadata": {},
   "source": [
    "### Sample Summary"
   ]
  },
  {
   "cell_type": "code",
   "execution_count": null,
   "id": "d63871a6",
   "metadata": {},
   "outputs": [],
   "source": [
    "summary = pd.read_csv('summary_sheet.csv')"
   ]
  },
  {
   "cell_type": "code",
   "execution_count": 35,
   "id": "7f701352",
   "metadata": {},
   "outputs": [
    {
     "name": "stdout",
     "output_type": "stream",
     "text": [
      "Y-BIN Women's Leggings are soft, cotton-blended tights designed for workouts, yoga, and casual wear. Notable features include a fashionable thigh pocket, mid-rise waist, machine washability, and a comfortable design.\n"
     ]
    }
   ],
   "source": [
    "print(summary[summary['asin'] == products.iloc[21].asin].iloc[0].summary)"
   ]
  },
  {
   "cell_type": "markdown",
   "id": "577e2f02",
   "metadata": {},
   "source": [
    "### View Sample High res images"
   ]
  },
  {
   "cell_type": "code",
   "execution_count": 39,
   "id": "819a6854",
   "metadata": {},
   "outputs": [
    {
     "data": {
      "text/plain": [
       "\"['https://images-na.ssl-images-amazon.com/images/I/41568f4cT9L.jpg', 'https://images-na.ssl-images-amazon.com/images/I/512KEVlARpL.jpg', 'https://images-na.ssl-images-amazon.com/images/I/41JVN%2BCoRGL.jpg']\""
      ]
     },
     "execution_count": 39,
     "metadata": {},
     "output_type": "execute_result"
    }
   ],
   "source": [
    "products.iloc[21].imageURLHighRes"
   ]
  },
  {
   "cell_type": "code",
   "execution_count": 44,
   "id": "0324f244",
   "metadata": {},
   "outputs": [
    {
     "data": {
      "text/plain": [
       "\"['https://images-na.ssl-images-amazon.com/images/I/41568f4cT9L.jpg', 'https://images-na.ssl-images-amazon.com/images/I/512KEVlARpL.jpg', 'https://images-na.ssl-images-amazon.com/images/I/41JVN%2BCoRGL.jpg']\""
      ]
     },
     "execution_count": 44,
     "metadata": {},
     "output_type": "execute_result"
    }
   ],
   "source": [
    "import ast\n",
    "products.iloc[21].imageURLHighRes"
   ]
  },
  {
   "cell_type": "code",
   "execution_count": 45,
   "id": "bae61f22",
   "metadata": {},
   "outputs": [
    {
     "data": {
      "text/plain": [
       "'https://images-na.ssl-images-amazon.com/images/I/41568f4cT9L.jpg'"
      ]
     },
     "execution_count": 45,
     "metadata": {},
     "output_type": "execute_result"
    }
   ],
   "source": [
    "array = ast.literal_eval(products.iloc[21].imageURLHighRes)\n",
    "array[0]"
   ]
  },
  {
   "cell_type": "markdown",
   "id": "66ee0515",
   "metadata": {},
   "source": [
    "### Resize Image"
   ]
  },
  {
   "cell_type": "code",
   "execution_count": 69,
   "id": "c31e1676",
   "metadata": {},
   "outputs": [],
   "source": [
    "import requests\n",
    "# from IPython.display import display, Image\n",
    "from PIL import Image\n",
    "from io import BytesIO\n",
    "\n",
    "def resize_image_from_url(url, width, height):\n",
    "    # Download the image from the URL\n",
    "    response = requests.get(url)\n",
    "    image = Image.open(BytesIO(response.content))\n",
    "\n",
    "    # Resize the image\n",
    "    resized_image = image.resize((width, height))\n",
    "\n",
    "    return resized_image"
   ]
  },
  {
   "cell_type": "code",
   "execution_count": 71,
   "id": "3c6ffe6e",
   "metadata": {},
   "outputs": [
    {
     "data": {
      "image/jpeg": "[encoded data removed]",
      "image/png": "[encoded data removed]",
      "text/plain": [
       "<PIL.Image.Image image mode=RGB size=200x200>"
      ]
     },
     "execution_count": 71,
     "metadata": {},
     "output_type": "execute_result"
    }
   ],
   "source": [
    "resize_image_from_url(array[0], 200,200)"
   ]
  },
  {
   "cell_type": "markdown",
   "id": "49ebd327",
   "metadata": {},
   "source": [
    "## Zero-Shot Image Classification using GPT-4 Turbo"
   ]
  },
  {
   "cell_type": "code",
   "execution_count": 75,
   "id": "b70ed909",
   "metadata": {},
   "outputs": [
    {
     "name": "stdout",
     "output_type": "stream",
     "text": [
      "Choice(finish_reason='stop', index=0, logprobs=None, message=ChatCompletionMessage(content='Women Clothing\\nGirls Clothing\\nWomen Shoes', role='assistant', function_call=None, tool_calls=None))\n"
     ]
    }
   ],
   "source": [
    "from openai import OpenAI\n",
    "\n",
    "client = OpenAI(api_key=os.getenv('openai'))\n",
    "\n",
    "response = client.chat.completions.create(\n",
    "  model=\"gpt-4-turbo\",\n",
    "  messages=[\n",
    "    {\n",
    "      \"role\": \"user\",\n",
    "      \"content\": [\n",
    "        {\"type\": \"text\", \"text\": \"\"\"\"\n",
    "         classify image to following categories and give top 3 close matches from high to low among them:\n",
    "        \n",
    "        'Men Clothing', 'Women Clothing', 'Boys Clothing','Girls Clothing',\n",
    "        'Men Shoes', 'Women Shoes', 'Boys Shoes','Girls Shoes',\n",
    "        'Men Watches', 'Women Watches', 'Boys Watches','Girls Watches'\n",
    "         \n",
    "         Give response in below format:\n",
    "         {prediction1_category}\n",
    "         {prediction2_category}\n",
    "         {prediction3_category}\n",
    "         \"\"\"},\n",
    "        {\n",
    "          \"type\": \"image_url\",\n",
    "          \"image_url\": {\n",
    "            \"url\": \"https://images-na.ssl-images-amazon.com/images/I/41568f4cT9L.jpg\",\n",
    "          },\n",
    "        },\n",
    "      ],\n",
    "    }\n",
    "  ],\n",
    "  max_tokens=300,\n",
    ")\n",
    "\n"
   ]
  },
  {
   "cell_type": "code",
   "execution_count": 76,
   "id": "bfa7736e",
   "metadata": {},
   "outputs": [
    {
     "name": "stdout",
     "output_type": "stream",
     "text": [
      "Women Clothing\n",
      "Girls Clothing\n",
      "Women Shoes\n"
     ]
    }
   ],
   "source": [
    "print(response.choices[0].message.content)"
   ]
  },
  {
   "cell_type": "code",
   "execution_count": 80,
   "id": "531ff49b",
   "metadata": {},
   "outputs": [],
   "source": [
    "# ! pip3 install --upgrade pip\n",
    "# ! pip3 install -q mediapipe\n",
    "\n"
   ]
  },
  {
   "cell_type": "code",
   "execution_count": 83,
   "id": "5108cc12",
   "metadata": {},
   "outputs": [],
   "source": [
    "import mediapipe as mp\n",
    "from mediapipe.tasks import python\n",
    "from mediapipe.tasks.python import vision"
   ]
  },
  {
   "cell_type": "code",
   "execution_count": 92,
   "id": "f7884ee9",
   "metadata": {},
   "outputs": [],
   "source": [
    "BaseOptions = mp.tasks.BaseOptions\n",
    "model_asset_path='mobilenet_v3_small_075_224_embedder.tflite'\n",
    "\n",
    "ImageEmbedder = mp.tasks.vision.ImageEmbedder\n",
    "ImageEmbedderOptions = mp.tasks.vision.ImageEmbedderOptions\n",
    "VisionRunningMode = mp.tasks.vision.RunningMode\n",
    "\n",
    "options = ImageEmbedderOptions(\n",
    "    base_options=BaseOptions(model_asset_path=model_asset_path),\n",
    "    quantize=True,\n",
    "    running_mode=VisionRunningMode.IMAGE)\n"
   ]
  },
  {
   "cell_type": "code",
   "execution_count": 89,
   "id": "603ae4b6",
   "metadata": {},
   "outputs": [
    {
     "name": "stdout",
     "output_type": "stream",
     "text": [
      "Image downloaded successfully.\n"
     ]
    }
   ],
   "source": [
    "def download_image(url, save_path):\n",
    "    # Send a GET request to the URL\n",
    "    response = requests.get(url)\n",
    "    \n",
    "    # Check if the request was successful (status code 200)\n",
    "    if response.status_code == 200:\n",
    "        # Open the file in binary write mode and write the content\n",
    "        with open(save_path, 'wb') as f:\n",
    "            f.write(response.content)\n",
    "        print(\"Image downloaded successfully.\")\n",
    "    else:\n",
    "        print(\"Failed to download image. Status code:\", response.status_code)\n",
    "\n",
    "download_image(\"https://images-na.ssl-images-amazon.com/images/I/41568f4cT9L.jpg\", \"img.jpg\")"
   ]
  },
  {
   "cell_type": "code",
   "execution_count": 98,
   "id": "09c66685",
   "metadata": {},
   "outputs": [
    {
     "name": "stdout",
     "output_type": "stream",
     "text": [
      "(1024,)\n"
     ]
    },
    {
     "name": "stderr",
     "output_type": "stream",
     "text": [
      "I0000 00:00:1712885024.847783 15954842 gl_context.cc:357] GL version: 2.1 (2.1 Metal - 88), renderer: Apple M1\n",
      "/Library/Frameworks/Python.framework/Versions/3.10/lib/python3.10/site-packages/google/protobuf/symbol_database.py:55: UserWarning: SymbolDatabase.GetPrototype() is deprecated. Please use message_factory.GetMessageClass() instead. SymbolDatabase.GetPrototype() will be removed soon.\n",
      "  \n"
     ]
    }
   ],
   "source": [
    "mp_image = mp.Image.create_from_file('img.jpg')\n",
    "with ImageEmbedder.create_from_options(options) as embedder:\n",
    "    embedding_result = embedder.embed(mp_image)\n",
    "    print(embedding_result.embeddings[0].embedding.shape)"
   ]
  },
  {
   "cell_type": "markdown",
   "id": "67baf190",
   "metadata": {},
   "source": [
    "# Reviews of Products"
   ]
  },
  {
   "cell_type": "code",
   "execution_count": 99,
   "id": "f2a12295",
   "metadata": {},
   "outputs": [],
   "source": [
    "reviews = pd.read_csv('reviews.csv')"
   ]
  },
  {
   "cell_type": "code",
   "execution_count": 102,
   "id": "88163d5f",
   "metadata": {},
   "outputs": [
    {
     "data": {
      "text/plain": [
       "count    1670.000000\n",
       "mean        5.563473\n",
       "std         3.908999\n",
       "min         1.000000\n",
       "25%         1.000000\n",
       "50%         5.000000\n",
       "75%        10.000000\n",
       "max        10.000000\n",
       "Name: asin, dtype: float64"
      ]
     },
     "execution_count": 102,
     "metadata": {},
     "output_type": "execute_result"
    }
   ],
   "source": [
    "reviews['asin'].value_counts().describe()"
   ]
  },
  {
   "cell_type": "markdown",
   "id": "fc37c9d5",
   "metadata": {},
   "source": [
    "### We had atleast a review for all the products."
   ]
  },
  {
   "cell_type": "markdown",
   "id": "bce9f560",
   "metadata": {},
   "source": [
    "### Summarising Reviews"
   ]
  },
  {
   "cell_type": "code",
   "execution_count": 112,
   "id": "5fb733b0",
   "metadata": {},
   "outputs": [],
   "source": [
    "instruction = \"\"\"Give a concise summary for the below reviews given by users for the product in the form {\"summary\": ...}.\\n\\nReviews:\\n\"\"\""
   ]
  },
  {
   "cell_type": "code",
   "execution_count": 114,
   "id": "72051266",
   "metadata": {},
   "outputs": [],
   "source": [
    "def generate_reviews_query(pid):\n",
    "    reviews_spotlight = reviews[reviews['asin'] == pid]\n",
    "    text=\"\"\n",
    "    for _,review in reviews_spotlight.iterrows():\n",
    "        text+=\"Heading:\\n\"\n",
    "        text+=review['summary']\n",
    "        text+=\"Review\\n\"+review['reviewText']\n",
    "        text+=\"\\n\"\n",
    "    return text\n",
    "review_query = generate_reviews_query('5120053475')"
   ]
  },
  {
   "cell_type": "code",
   "execution_count": 119,
   "id": "67e385ea",
   "metadata": {},
   "outputs": [],
   "source": [
    "summary = call_gemini_api(instruction+review_query)"
   ]
  },
  {
   "cell_type": "code",
   "execution_count": 121,
   "id": "7185d019",
   "metadata": {},
   "outputs": [
    {
     "name": "stdout",
     "output_type": "stream",
     "text": [
      "These high-quality tights from Veneziana are comfortable, durable, and true to size. The semi-sheer opaque black material provides coverage while allowing skin to show through, and the reinforced waistband offers control. The tights come in three colors (black, cappuccino, and natural) and are available in a range of sizes. Overall, users are very satisfied with these tights and recommend them for everyday wear or special occasions.\n"
     ]
    }
   ],
   "source": [
    "print(json.loads(summary)['summary'])"
   ]
  },
  {
   "cell_type": "markdown",
   "id": "9990608d",
   "metadata": {},
   "source": [
    "### Reference\n",
    "https://developers.google.com/mediapipe/solutions/vision/image_embedder/python"
   ]
  },
  {
   "cell_type": "code",
   "execution_count": null,
   "id": "9b3020c7",
   "metadata": {},
   "outputs": [],
   "source": []
  }
 ],
 "metadata": {
  "kernelspec": {
   "display_name": "nlp",
   "language": "python",
   "name": "python3"
  },
  "language_info": {
   "codemirror_mode": {
    "name": "ipython",
    "version": 3
   },
   "file_extension": ".py",
   "mimetype": "text/x-python",
   "name": "python",
   "nbconvert_exporter": "python",
   "pygments_lexer": "ipython3",
   "version": "3.10.10"
  }
 },
 "nbformat": 4,
 "nbformat_minor": 5
}
